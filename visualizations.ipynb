{
 "cells": [
  {
   "cell_type": "code",
   "execution_count": null,
   "metadata": {},
   "outputs": [],
   "source": [
    "import pandas as pd\n",
    "import seaborn as sns\n",
    "import matplotlib.pyplot as plt\n",
    "import os\n",
    "import json\n",
    "from tqdm.notebook import tqdm\n",
    "from data_tools import get_data_with_dates, get_verified_data\n",
    "from warnings import warn\n",
    "\n",
    "sns.set(rc={\"figure.figsize\":(16, 10)})"
   ]
  },
  {
   "cell_type": "code",
   "execution_count": null,
   "metadata": {},
   "outputs": [],
   "source": [
    "data = get_data_with_dates(get_verified_data())\n",
    "plt.plot"
   ]
  },
  {
   "cell_type": "code",
   "execution_count": null,
   "metadata": {},
   "outputs": [],
   "source": [
    "def get_data(filename: str, crisis_start: pd.Timestamp):\n",
    "    src_df = pd.read_excel(filename)\n",
    "    \n",
    "    new_cols = ['brak', 'negatywny', 'neutralny', 'pozytywny']\n",
    "    new_cols_ex = [c for c in new_cols if c in src_df['Wydźwięk'].unique().tolist()]\n",
    "    src_df[new_cols_ex] = pd.get_dummies(src_df['Wydźwięk'])\n",
    "    for col in new_cols:\n",
    "        if col not in src_df.columns:\n",
    "            src_df[col] = 0\n",
    "\n",
    "    df = src_df[['Data wydania'] + new_cols].groupby(['Data wydania']).sum()\n",
    "\n",
    "    df = df.reindex(pd.date_range(df.index.min(), df.index.max()))\n",
    "    df[new_cols] = df[new_cols].fillna(0)\n",
    "\n",
    "    df['Liczba wpisów'] = df[new_cols].sum(axis=1)\n",
    "    df['Kryzys'] = df.index >= crisis_start\n",
    "    return df\n",
    "\n",
    "def plot1(df: pd.DataFrame):\n",
    "    ax = sns.lineplot(df[['Wydźwięk', 'Liczba wpisów']], x='Data wydania', y='Liczba wpisów', hue='Wydźwięk')\n",
    "    ax.fill_between(df.index, 0, 1, where=df['Kryzys'], color='red', alpha=0.1, transform=ax.get_xaxis_transform())\n",
    "\n",
    "def plot2(df: pd.DataFrame, title: str = None, prediction: pd.Timestamp = None):\n",
    "    ax = plt.stackplot(x=df.index, data=df[['pozytywny', 'negatywny', 'neutralny', 'brak']])\n",
    "    ax.fill_between(df.index, 0, 1, where=df['Kryzys'], color='red', alpha=0.1, transform=ax.get_xaxis_transform())\n",
    "    if 'prediction' in df.columns:\n",
    "        ax.fill_between(df.index, 0, 1, where=df['prediction'], color='blue', alpha=0.5, transform=ax.get_xaxis_transform())\n",
    "    if title:\n",
    "        ax.set_title(title)"
   ]
  },
  {
   "cell_type": "code",
   "execution_count": null,
   "metadata": {},
   "outputs": [],
   "source": [
    "def extract_raw_data(filename: str) -> pd.DataFrame:\n",
    "    src_df = pd.read_excel(filename)\n",
    "\n",
    "    if src_df['Kryzys'].hasnans:\n",
    "        src_df['Kryzys'] = src_df['Kryzys'].notna()\n",
    "    else:\n",
    "        src_df['Kryzys'] = (src_df['Kryzys'] != 'NIE') & (src_df['Kryzys'] != 'Nie')\n",
    "    if src_df['Kryzys'].nunique() != 2:\n",
    "        raise warn(f'Crisis column data error in file {filename}.')\n",
    "    \n",
    "    new_cols = ['brak', 'negatywny', 'neutralny', 'pozytywny']\n",
    "    new_cols_ex = [c for c in new_cols if c in src_df['Wydźwięk'].unique().tolist()]\n",
    "    src_df[new_cols_ex] = pd.get_dummies(src_df['Wydźwięk'])\n",
    "    for col in new_cols:\n",
    "        if col not in src_df.columns:\n",
    "            src_df[col] = 0\n",
    "\n",
    "    df = src_df[['Data wydania', 'Kryzys']].groupby(['Data wydania']).any()\n",
    "    df = df.join(src_df[['Data wydania'] + new_cols].groupby(['Data wydania']).sum())\n",
    "\n",
    "    df = df.reindex(pd.date_range(df.index.min(), df.index.max()))\n",
    "    df[new_cols] = df[new_cols].fillna(0)\n",
    "    df['Kryzys'] = df['Kryzys'].fillna(method='ffill') & df['Kryzys'].fillna(method='bfill')\n",
    "\n",
    "    # df['suma'] = df[new_cols].sum(axis=1)\n",
    "\n",
    "    df['nazwa'] = os.path.basename(filename)[:-5]\n",
    "    \n",
    "    return df"
   ]
  },
  {
   "cell_type": "code",
   "execution_count": null,
   "metadata": {},
   "outputs": [],
   "source": [
    "def plot3(df_row: pd.Series):\n",
    "    df = extract_raw_data(df_row['path'])\n",
    "    fig, ax = plt.subplots()\n",
    "    ax.stackplot(df.index.values, df[['pozytywny', 'negatywny', 'neutralny', 'brak']].to_dict('list').values(), labels=['pozytywny', 'negatywny', 'neutralny', 'brak'], colors=['green', 'red', 'blue', 'gray'])\n",
    "    ax.fill_between(df.index, 0, 1, where=df['Kryzys'], color='red', alpha=0.1, transform=ax.get_xaxis_transform())\n",
    "    ax.fill_between(df.index, 0, 1, where=(df.index == df_row['Data']), color='black', alpha=1, transform=ax.get_xaxis_transform())\n",
    "    ax.legend()\n",
    "    ax.set_title(os.path.basename(df_row['path'])[:-5])"
   ]
  },
  {
   "cell_type": "code",
   "execution_count": null,
   "metadata": {},
   "outputs": [],
   "source": [
    "plot3(data.iloc[0])"
   ]
  },
  {
   "cell_type": "code",
   "execution_count": null,
   "metadata": {},
   "outputs": [],
   "source": [
    "plot3(data.iloc[5])"
   ]
  },
  {
   "cell_type": "code",
   "execution_count": null,
   "metadata": {},
   "outputs": [],
   "source": [
    "dfs = [extract_raw_data(fname).reset_index() for fname in tqdm(files)]\n",
    "df = pd.concat(dfs, ignore_index=True)"
   ]
  },
  {
   "cell_type": "code",
   "execution_count": null,
   "metadata": {},
   "outputs": [],
   "source": [
    "df['suma'].value_counts()"
   ]
  },
  {
   "cell_type": "code",
   "execution_count": null,
   "metadata": {},
   "outputs": [],
   "source": [
    "sns.histplot(data=df, x='suma')\n",
    "plt.ylim(0, 1000)\n",
    "plt.xlim(0, 500)\n"
   ]
  },
  {
   "cell_type": "code",
   "execution_count": null,
   "metadata": {},
   "outputs": [],
   "source": [
    "sns.histplot(data=df[['nazwa', 'suma']].groupby('nazwa').count().reset_index(), x='suma', binwidth=10)\n",
    "plt.xlim(0, 500)"
   ]
  },
  {
   "cell_type": "code",
   "execution_count": null,
   "metadata": {},
   "outputs": [],
   "source": [
    "sns.histplot(data=df[['nazwa', 'suma']].groupby('nazwa').sum().reset_index(), x='suma')"
   ]
  },
  {
   "cell_type": "code",
   "execution_count": null,
   "metadata": {},
   "outputs": [],
   "source": [
    "df = get_data(files[0])"
   ]
  },
  {
   "cell_type": "code",
   "execution_count": null,
   "metadata": {},
   "outputs": [],
   "source": [
    "plot2(get)"
   ]
  },
  {
   "cell_type": "code",
   "execution_count": null,
   "metadata": {},
   "outputs": [],
   "source": [
    "files[0]"
   ]
  },
  {
   "cell_type": "code",
   "execution_count": null,
   "metadata": {},
   "outputs": [],
   "source": []
  },
  {
   "cell_type": "code",
   "execution_count": null,
   "metadata": {},
   "outputs": [],
   "source": [
    "df = extract_raw_data(data['path'].iloc[1])\n",
    "fig, ax = plt.subplots()\n",
    "ax.stackplot(df.index.values, df[['pozytywny', 'negatywny', 'neutralny', 'brak']].to_dict('list').values(), labels=['pozytywny', 'negatywny', 'neutralny', 'brak'])\n",
    "ax.legend()"
   ]
  },
  {
   "cell_type": "code",
   "execution_count": null,
   "metadata": {},
   "outputs": [],
   "source": [
    "df.index.values"
   ]
  },
  {
   "cell_type": "code",
   "execution_count": null,
   "metadata": {},
   "outputs": [],
   "source": [
    "df[['pozytywny', 'negatywny', 'neutralny', 'brak']].to_dict('list').values()"
   ]
  },
  {
   "cell_type": "code",
   "execution_count": null,
   "metadata": {},
   "outputs": [],
   "source": [
    "plot2(extract_raw_data(data['path'].iloc[0]), os.path.basename(data['path'].iloc[0]), data['Data'].iloc[0])\n",
    "# plt.savefig('test.png')"
   ]
  },
  {
   "cell_type": "code",
   "execution_count": null,
   "metadata": {},
   "outputs": [],
   "source": [
    "df = get_data(files[1])"
   ]
  },
  {
   "cell_type": "code",
   "execution_count": null,
   "metadata": {},
   "outputs": [],
   "source": [
    "plot1(df)"
   ]
  },
  {
   "cell_type": "code",
   "execution_count": null,
   "metadata": {},
   "outputs": [],
   "source": [
    "plot2(df)"
   ]
  },
  {
   "cell_type": "code",
   "execution_count": null,
   "metadata": {},
   "outputs": [],
   "source": [
    "df = get_data(files[2])"
   ]
  },
  {
   "cell_type": "code",
   "execution_count": null,
   "metadata": {},
   "outputs": [],
   "source": [
    "plot1(df)"
   ]
  },
  {
   "cell_type": "code",
   "execution_count": null,
   "metadata": {},
   "outputs": [],
   "source": [
    "plot2(df)"
   ]
  },
  {
   "cell_type": "code",
   "execution_count": null,
   "metadata": {},
   "outputs": [],
   "source": [
    "df = get_data(files[3])"
   ]
  },
  {
   "cell_type": "code",
   "execution_count": null,
   "metadata": {},
   "outputs": [],
   "source": [
    "plot1(df)"
   ]
  },
  {
   "cell_type": "code",
   "execution_count": null,
   "metadata": {},
   "outputs": [],
   "source": [
    "plot2(df)"
   ]
  },
  {
   "cell_type": "code",
   "execution_count": null,
   "metadata": {},
   "outputs": [],
   "source": [
    "df = get_data(files[4])"
   ]
  },
  {
   "cell_type": "code",
   "execution_count": null,
   "metadata": {},
   "outputs": [],
   "source": [
    "plot1(df)"
   ]
  },
  {
   "cell_type": "code",
   "execution_count": null,
   "metadata": {},
   "outputs": [],
   "source": [
    "plot2(df)"
   ]
  },
  {
   "cell_type": "code",
   "execution_count": null,
   "metadata": {},
   "outputs": [],
   "source": [
    "PLOT_DIR = 'plots'\n",
    "\n",
    "for f in tqdm(files):\n",
    "    df = get_data(f)\n",
    "    plot2(df, f[len(DATA_DIR)+1:-5])\n",
    "    plt.savefig(os.path.join(PLOT_DIR, f[len(DATA_DIR)+1:-5] + '.png'))"
   ]
  },
  {
   "cell_type": "code",
   "execution_count": null,
   "metadata": {},
   "outputs": [],
   "source": [
    "with open('other_data/shifts.json', 'r') as f:\n",
    "    shifts = json.load(f)"
   ]
  },
  {
   "cell_type": "code",
   "execution_count": null,
   "metadata": {},
   "outputs": [],
   "source": [
    "df = crisis[crisis['Plik'].isin(shifts.keys())].reset_index()\n",
    "shifts_df = pd.DataFrame.from_dict(shifts, orient='index').reset_index().rename(columns={'index': 'Plik', 0: 'shift'})\n",
    "shifts_df['shift'] = shifts_df['shift'].apply(lambda x: pd.Timedelta(days=x))\n",
    "df['prediction'] = df['Data'] + shifts_df['shift']"
   ]
  },
  {
   "cell_type": "code",
   "execution_count": null,
   "metadata": {},
   "outputs": [],
   "source": [
    "for i in tqdm(range(len(data))):\n",
    "    plot3(data.iloc[i])\n",
    "    plt.savefig(os.path.join('plots', os.path.basename(data.iloc[i]['path'])[:-5] + '.png'))"
   ]
  },
  {
   "cell_type": "code",
   "execution_count": null,
   "metadata": {},
   "outputs": [],
   "source": [
    "for _, row in tqdm(df.iterrows(), total=df.shape[0]):\n",
    "    df2 = get_data(os.path.join(DATA_DIR, row.Plik), row.Data)\n",
    "    df2['prediction'] = df2.index == row.prediction\n",
    "    plot2(df2, row.Plik[:-5])"
   ]
  }
 ],
 "metadata": {
  "kernelspec": {
   "display_name": "Python 3.10.9 ('base')",
   "language": "python",
   "name": "python3"
  },
  "language_info": {
   "codemirror_mode": {
    "name": "ipython",
    "version": 3
   },
   "file_extension": ".py",
   "mimetype": "text/x-python",
   "name": "python",
   "nbconvert_exporter": "python",
   "pygments_lexer": "ipython3",
   "version": "3.10.10"
  },
  "orig_nbformat": 4,
  "vscode": {
   "interpreter": {
    "hash": "7e4619dab46ab5f17daa90698b9286d7a88a033544444f13ada135f9111a622c"
   }
  }
 },
 "nbformat": 4,
 "nbformat_minor": 2
}
