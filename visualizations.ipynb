{
 "cells": [
  {
   "cell_type": "code",
   "execution_count": 1,
   "metadata": {},
   "outputs": [],
   "source": [
    "import pandas as pd\n",
    "import seaborn as sns\n",
    "import matplotlib.pyplot as plt\n",
    "import os\n",
    "import json\n",
    "from tqdm.notebook import tqdm\n",
    "from data_tools import get_data_with_dates, get_verified_data\n",
    "from warnings import warn\n",
    "\n",
    "sns.set(rc={\"figure.figsize\":(16, 10)})"
   ]
  },
  {
   "cell_type": "code",
   "execution_count": 2,
   "metadata": {},
   "outputs": [],
   "source": [
    "def get_data(filename: str, crisis_start: pd.Timestamp):\n",
    "    src_df = pd.read_excel(filename)\n",
    "    \n",
    "    new_cols = ['brak', 'negatywny', 'neutralny', 'pozytywny']\n",
    "    new_cols_ex = [c for c in new_cols if c in src_df['Wydźwięk'].unique().tolist()]\n",
    "    src_df[new_cols_ex] = pd.get_dummies(src_df['Wydźwięk'])\n",
    "    for col in new_cols:\n",
    "        if col not in src_df.columns:\n",
    "            src_df[col] = 0\n",
    "\n",
    "    df = src_df[['Data wydania'] + new_cols].groupby(['Data wydania']).sum()\n",
    "\n",
    "    df = df.reindex(pd.date_range(df.index.min(), df.index.max()))\n",
    "    df[new_cols] = df[new_cols].fillna(0)\n",
    "\n",
    "    df['Liczba wpisów'] = df[new_cols].sum(axis=1)\n",
    "    df['Kryzys'] = df.index >= crisis_start\n",
    "    return df\n",
    "\n",
    "def plot1(df: pd.DataFrame):\n",
    "    ax = sns.lineplot(df[['Wydźwięk', 'Liczba wpisów']], x='Data wydania', y='Liczba wpisów', hue='Wydźwięk')\n",
    "    ax.fill_between(df.index, 0, 1, where=df['Kryzys'], color='red', alpha=0.1, transform=ax.get_xaxis_transform())\n",
    "\n",
    "def plot2(df: pd.DataFrame, title: str = None, prediction: pd.Timestamp = None):\n",
    "    ax = plt.stackplot(x=df.index, data=df[['pozytywny', 'negatywny', 'neutralny', 'brak']])\n",
    "    ax.fill_between(df.index, 0, 1, where=df['Kryzys'], color='red', alpha=0.1, transform=ax.get_xaxis_transform())\n",
    "    if 'prediction' in df.columns:\n",
    "        ax.fill_between(df.index, 0, 1, where=df['prediction'], color='blue', alpha=0.5, transform=ax.get_xaxis_transform())\n",
    "    if title:\n",
    "        ax.set_title(title)"
   ]
  },
  {
   "cell_type": "code",
   "execution_count": 3,
   "metadata": {},
   "outputs": [],
   "source": [
    "def extract_raw_data(filename: str) -> pd.DataFrame:\n",
    "    src_df = pd.read_excel(filename)\n",
    "\n",
    "    if src_df['Kryzys'].hasnans:\n",
    "        src_df['Kryzys'] = src_df['Kryzys'].notna()\n",
    "    else:\n",
    "        src_df['Kryzys'] = (src_df['Kryzys'] != 'NIE') & (src_df['Kryzys'] != 'Nie')\n",
    "    if src_df['Kryzys'].nunique() != 2:\n",
    "        warn(f'Crisis column data error in file {filename}.')\n",
    "    \n",
    "    new_cols = ['brak', 'negatywny', 'neutralny', 'pozytywny']\n",
    "    new_cols_ex = [c for c in new_cols if c in src_df['Wydźwięk'].unique().tolist()]\n",
    "    src_df[new_cols_ex] = pd.get_dummies(src_df['Wydźwięk'])\n",
    "    for col in new_cols:\n",
    "        if col not in src_df.columns:\n",
    "            src_df[col] = 0\n",
    "\n",
    "    df = src_df[['Data wydania', 'Kryzys']].groupby(['Data wydania']).any()\n",
    "    df = df.join(src_df[['Data wydania'] + new_cols].groupby(['Data wydania']).sum())\n",
    "\n",
    "    df = df.reindex(pd.date_range(df.index.min(), df.index.max()))\n",
    "    df[new_cols] = df[new_cols].fillna(0)\n",
    "    df['Kryzys'] = df['Kryzys'].fillna(method='ffill') & df['Kryzys'].fillna(method='bfill')\n",
    "\n",
    "    # df['suma'] = df[new_cols].sum(axis=1)\n",
    "\n",
    "    df['nazwa'] = os.path.basename(filename)[:-5]\n",
    "    \n",
    "    return df"
   ]
  },
  {
   "cell_type": "code",
   "execution_count": 4,
   "metadata": {},
   "outputs": [],
   "source": [
    "from typing import NamedTuple\n",
    "\n",
    "\n",
    "def plot3(row: NamedTuple, ):\n",
    "    df = extract_raw_data(row.path)\n",
    "    df = df[(df.index >= row.crisis_start - pd.Timedelta(days=30)) & (df.index < row.crisis_start + pd.Timedelta(days=30))]\n",
    "    _, ax = plt.subplots()\n",
    "    ax.stackplot(\n",
    "        df.index.values,\n",
    "        df[[ 'brak', 'negatywny', 'pozytywny', 'neutralny']].to_dict('list').values(),\n",
    "        labels=['brak', 'negatywny', 'pozytywny', 'neutralny'],\n",
    "        colors=['gray', 'red', 'green', 'blue'],\n",
    "        edgecolor='face'\n",
    "    )\n",
    "    ax.fill_between(df.index, 0, 1, where=df['Kryzys'], color='red', alpha=0.1, transform=ax.get_xaxis_transform())\n",
    "    ax.fill_between(df.index, 0, 1, where=(df.index == row.crisis_start), color='black', alpha=1, transform=ax.get_xaxis_transform())\n",
    "    ax.legend()\n",
    "    ax.set_title(os.path.basename(row.name))"
   ]
  },
  {
   "cell_type": "code",
   "execution_count": 5,
   "metadata": {},
   "outputs": [
    {
     "name": "stderr",
     "output_type": "stream",
     "text": [
      "/home/proto/repos/crisis-detector/data_tools.py:46: SettingWithCopyWarning: \n",
      "A value is trying to be set on a copy of a slice from a DataFrame.\n",
      "Try using .loc[row_indexer,col_indexer] = value instead\n",
      "\n",
      "See the caveats in the documentation: https://pandas.pydata.org/pandas-docs/stable/user_guide/indexing.html#returning-a-view-versus-a-copy\n",
      "  data1['path'] = data1['Nazwa pliku'].apply(lambda x: files[fnames.index(x)])\n"
     ]
    }
   ],
   "source": [
    "data = get_data_with_dates(get_verified_data())"
   ]
  },
  {
   "cell_type": "code",
   "execution_count": 7,
   "metadata": {},
   "outputs": [
    {
     "data": {
      "application/vnd.jupyter.widget-view+json": {
       "model_id": "08d071d9ff78432f8ad167fbd0cbd4be",
       "version_major": 2,
       "version_minor": 0
      },
      "text/plain": [
       "  0%|          | 0/90 [00:00<?, ?it/s]"
      ]
     },
     "metadata": {},
     "output_type": "display_data"
    },
    {
     "name": "stderr",
     "output_type": "stream",
     "text": [
      "/tmp/ipykernel_482/3953965445.py:9: UserWarning: Crisis column data error in file dane/Etap I - zweryfikowane szeregi/Ministerstwo Zdrowia_respiratory od handlarza bronią.xlsx.\n",
      "  warn(f'Crisis column data error in file {filename}.')\n"
     ]
    }
   ],
   "source": [
    "for row in tqdm(data.itertuples(), total=len(data)):\n",
    "    try:\n",
    "        plot3(row)\n",
    "        plt.savefig(os.path.join('plots', os.path.basename(row.path)[:-5] + '.png'))\n",
    "        plt.close()\n",
    "    except KeyError:\n",
    "        pass"
   ]
  }
 ],
 "metadata": {
  "kernelspec": {
   "display_name": "Python 3.10.9 ('base')",
   "language": "python",
   "name": "python3"
  },
  "language_info": {
   "codemirror_mode": {
    "name": "ipython",
    "version": 3
   },
   "file_extension": ".py",
   "mimetype": "text/x-python",
   "name": "python",
   "nbconvert_exporter": "python",
   "pygments_lexer": "ipython3",
   "version": "3.10.6"
  },
  "orig_nbformat": 4,
  "vscode": {
   "interpreter": {
    "hash": "7e4619dab46ab5f17daa90698b9286d7a88a033544444f13ada135f9111a622c"
   }
  }
 },
 "nbformat": 4,
 "nbformat_minor": 2
}
