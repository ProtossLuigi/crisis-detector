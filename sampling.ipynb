{
 "cells": [
  {
   "cell_type": "code",
   "execution_count": null,
   "metadata": {},
   "outputs": [],
   "source": [
    "from data_tools import get_data_with_dates, get_all_data\n",
    "from tqdm.notebook import tqdm\n",
    "from warnings import warn\n",
    "import pandas as pd\n",
    "from random import sample"
   ]
  },
  {
   "cell_type": "code",
   "execution_count": null,
   "metadata": {},
   "outputs": [],
   "source": [
    "data = get_data_with_dates(get_all_data())"
   ]
  },
  {
   "cell_type": "code",
   "execution_count": null,
   "metadata": {},
   "outputs": [],
   "source": [
    "samples = {}\n",
    "\n",
    "for row in tqdm(data.itertuples(), total=len(data)):\n",
    "    df = pd.read_excel(row.path)\n",
    "    try:\n",
    "        df = df[(df['Data wydania'] >= row.crisis_start - pd.Timedelta(days=30)) & (df['Data wydania'] < row.crisis_start + pd.Timedelta(days=30))]\n",
    "        if df['Kryzys'].hasnans:\n",
    "            if df['Kryzys'].nunique(dropna=False) != 2:\n",
    "                warn(f'Invalid Kryzys column values in {row.name}.')\n",
    "                continue\n",
    "            df['label'] = ~df['Kryzys'].isna()\n",
    "        else:\n",
    "            df['Kryzys'] = df['Kryzys'].apply(lambda x: x[:3])\n",
    "            if df['Kryzys'].nunique(dropna=False) != 2:\n",
    "                warn(f'Invalid Kryzys column values in {row.name}.')\n",
    "                continue\n",
    "            df['label'] = df['Kryzys'] != 'NIE'\n",
    "        sample_size = min(sum(df['label']), sum(~df['label']), 50)\n",
    "        samples_neg = sample(df[~df['label']].index.to_list(), sample_size)\n",
    "        samples_pos = sample(df[df['label']].index.to_list(), sample_size)\n",
    "        samples[row.name] = samples_neg + samples_pos\n",
    "        samples[row.name].sort()\n",
    "    except KeyError:\n",
    "        print(f'{row.name} has shit keys.')"
   ]
  },
  {
   "cell_type": "code",
   "execution_count": null,
   "metadata": {},
   "outputs": [],
   "source": [
    "data.iloc[10]"
   ]
  },
  {
   "cell_type": "code",
   "execution_count": null,
   "metadata": {},
   "outputs": [],
   "source": [
    "data"
   ]
  }
 ],
 "metadata": {
  "kernelspec": {
   "display_name": ".venv",
   "language": "python",
   "name": "python3"
  },
  "language_info": {
   "codemirror_mode": {
    "name": "ipython",
    "version": 3
   },
   "file_extension": ".py",
   "mimetype": "text/x-python",
   "name": "python",
   "nbconvert_exporter": "python",
   "pygments_lexer": "ipython3",
   "version": "3.10.6"
  },
  "orig_nbformat": 4
 },
 "nbformat": 4,
 "nbformat_minor": 2
}
