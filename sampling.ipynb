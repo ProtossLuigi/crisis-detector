{
 "cells": [
  {
   "cell_type": "code",
   "execution_count": 1,
   "metadata": {},
   "outputs": [],
   "source": [
    "from data_tools import get_data_with_dates, get_all_data\n",
    "from tqdm.notebook import tqdm\n",
    "from warnings import warn\n",
    "import pandas as pd\n",
    "from random import sample"
   ]
  },
  {
   "cell_type": "code",
   "execution_count": 2,
   "metadata": {},
   "outputs": [],
   "source": [
    "data = get_data_with_dates(get_all_data())"
   ]
  },
  {
   "cell_type": "code",
   "execution_count": 3,
   "metadata": {},
   "outputs": [
    {
     "data": {
      "application/vnd.jupyter.widget-view+json": {
       "model_id": "3d029ed87f8345c0a3239caa2adec533",
       "version_major": 2,
       "version_minor": 0
      },
      "text/plain": [
       "  0%|          | 0/91 [00:00<?, ?it/s]"
      ]
     },
     "metadata": {},
     "output_type": "display_data"
    },
    {
     "name": "stdout",
     "output_type": "stream",
     "text": [
      "nagranie Anny Lewandowskiej - nagranie z tańcem w stroju otyłej kobiety / konflikt z Mają Staśko has shit keys.\n"
     ]
    },
    {
     "name": "stderr",
     "output_type": "stream",
     "text": [
      "/tmp/ipykernel_272/1248414445.py:15: UserWarning: Invalid Kryzys column values in Ministerstwo Zdrowia - respiratory od handlarza bronią (baza wygenerowana wyłącznie dla przekazu kryzysowego; całość - 6,5 mln publikacji).\n",
      "  warn(f'Invalid Kryzys column values in {row.name}.')\n"
     ]
    }
   ],
   "source": [
    "samples = {}\n",
    "\n",
    "for row in tqdm(data.itertuples(), total=len(data)):\n",
    "    df = pd.read_excel(row.path)\n",
    "    try:\n",
    "        df = df[(df['Data wydania'] >= row.crisis_start - pd.Timedelta(days=30)) & (df['Data wydania'] < row.crisis_start + pd.Timedelta(days=30))]\n",
    "        if df['Kryzys'].hasnans:\n",
    "            if df['Kryzys'].nunique(dropna=False) != 2:\n",
    "                warn(f'Invalid Kryzys column values in {row.name}.')\n",
    "                continue\n",
    "            df['label'] = ~df['Kryzys'].isna()\n",
    "        else:\n",
    "            df['Kryzys'] = df['Kryzys'].apply(lambda x: x[:3])\n",
    "            if df['Kryzys'].nunique(dropna=False) != 2:\n",
    "                warn(f'Invalid Kryzys column values in {row.name}.')\n",
    "                continue\n",
    "            df['label'] = df['Kryzys'] != 'NIE'\n",
    "        sample_size = min(sum(df['label']), sum(~df['label']), 50)\n",
    "        samples_neg = sample(df[~df['label']].index.to_list(), sample_size)\n",
    "        samples_pos = sample(df[df['label']].index.to_list(), sample_size)\n",
    "        samples[row.name] = samples_neg + samples_pos\n",
    "        samples[row.name].sort()\n",
    "    except KeyError:\n",
    "        warn(f'{row.name} has shit keys.')"
   ]
  },
  {
   "cell_type": "code",
   "execution_count": 5,
   "metadata": {},
   "outputs": [
    {
     "name": "stdout",
     "output_type": "stream",
     "text": [
      "100\n",
      "100\n",
      "100\n",
      "100\n",
      "100\n",
      "100\n",
      "100\n",
      "100\n",
      "100\n",
      "100\n",
      "100\n",
      "100\n",
      "100\n",
      "100\n",
      "100\n",
      "100\n",
      "100\n",
      "100\n",
      "100\n",
      "100\n",
      "100\n",
      "100\n",
      "100\n",
      "100\n",
      "100\n",
      "100\n",
      "100\n",
      "100\n",
      "100\n",
      "100\n",
      "100\n",
      "90\n",
      "100\n",
      "100\n",
      "24\n",
      "100\n",
      "100\n",
      "34\n",
      "100\n",
      "100\n",
      "36\n",
      "52\n",
      "100\n",
      "100\n",
      "16\n",
      "100\n",
      "20\n",
      "100\n",
      "70\n",
      "40\n",
      "100\n",
      "100\n",
      "100\n",
      "48\n",
      "64\n",
      "100\n",
      "4\n",
      "100\n",
      "100\n",
      "100\n",
      "100\n",
      "10\n",
      "92\n",
      "98\n",
      "78\n",
      "100\n",
      "70\n",
      "50\n",
      "32\n",
      "36\n",
      "14\n",
      "100\n",
      "100\n",
      "100\n",
      "100\n",
      "90\n",
      "72\n",
      "100\n",
      "100\n",
      "100\n",
      "100\n",
      "100\n",
      "100\n",
      "100\n",
      "100\n",
      "100\n",
      "100\n",
      "100\n",
      "100\n"
     ]
    }
   ],
   "source": [
    "for key in samples:\n",
    "    print(len(samples[key]))"
   ]
  },
  {
   "cell_type": "code",
   "execution_count": 27,
   "metadata": {},
   "outputs": [],
   "source": [
    "import json\n",
    "\n",
    "with open('samples.json', 'w') as f:\n",
    "    json.dump(samples, f)"
   ]
  },
  {
   "cell_type": "code",
   "execution_count": 26,
   "metadata": {},
   "outputs": [
    {
     "data": {
      "text/plain": [
       "Kryzys\n",
       "NIE                                              12\n",
       "TAK - sprawa zatrudnienia kobiety w wieku 40+    12\n",
       "Name: count, dtype: int64"
      ]
     },
     "execution_count": 26,
     "metadata": {},
     "output_type": "execute_result"
    }
   ],
   "source": [
    "n = 35\n",
    "df = pd.read_excel(data['path'][n])\n",
    "df.iloc[samples[data['name'][n]]]['Kryzys'].value_counts()"
   ]
  }
 ],
 "metadata": {
  "kernelspec": {
   "display_name": ".venv",
   "language": "python",
   "name": "python3"
  },
  "language_info": {
   "codemirror_mode": {
    "name": "ipython",
    "version": 3
   },
   "file_extension": ".py",
   "mimetype": "text/x-python",
   "name": "python",
   "nbconvert_exporter": "python",
   "pygments_lexer": "ipython3",
   "version": "3.10.6"
  },
  "orig_nbformat": 4
 },
 "nbformat": 4,
 "nbformat_minor": 2
}
