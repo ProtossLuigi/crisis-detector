{
 "cells": [
  {
   "cell_type": "code",
   "execution_count": null,
   "metadata": {},
   "outputs": [],
   "source": [
    "from typing import List\n",
    "import os\n",
    "import pandas as pd\n",
    "from tqdm.notebook import tqdm\n",
    "import datasets"
   ]
  },
  {
   "cell_type": "code",
   "execution_count": null,
   "metadata": {},
   "outputs": [],
   "source": [
    "DATA_DIR = 'crisis_data'\n",
    "FILE_BLACKLIST = [\n",
    "    'crisis_data/Afera Rywina.xlsx',\n",
    "    'crisis_data/Ministerstwo Zdrowia_respiratory od handlarza bronią.xlsx',\n",
    "    'crisis_data/Fake news_baza publikacji.xlsx'\n",
    "]\n",
    "\n",
    "files = [os.path.join(DATA_DIR, f) for f in os.listdir(DATA_DIR) if f[-5:] == '.xlsx']\n",
    "for f in FILE_BLACKLIST:\n",
    "    files.remove(f)"
   ]
  },
  {
   "cell_type": "code",
   "execution_count": null,
   "metadata": {},
   "outputs": [],
   "source": [
    "def create_dataset(filenames: List[str]):\n",
    "    dss = []\n",
    "    for filename in tqdm(filenames):\n",
    "        df = pd.read_excel(filename)\n",
    "        df = df[['Kryzys', 'Tytuł publikacji', 'Lead', 'Kontekst publikacji']]\n",
    "\n",
    "        if df['Kryzys'].hasnans:\n",
    "            df['Kryzys'] = df['Kryzys'].notna()\n",
    "        else:\n",
    "            df['Kryzys'] = (df['Kryzys'] != 'NIE') & (df['Kryzys'] != 'Nie')\n",
    "        if df['Kryzys'].nunique() != 2:\n",
    "            raise RuntimeError(f'Crisis column data error in file {filename}.')\n",
    "\n",
    "        df['text'] = df.apply(lambda x: \".\".join([str(x['Tytuł publikacji']), str(x['Lead']), str(x['Kontekst publikacji'])]), axis=1)\n",
    "        df = df[['Kryzys', 'text']]\n",
    "        dss.append(datasets.Dataset.from_pandas(df))\n",
    "    return datasets.concatenate_datasets(dss)"
   ]
  }
 ],
 "metadata": {
  "kernelspec": {
   "display_name": "base",
   "language": "python",
   "name": "python3"
  },
  "language_info": {
   "name": "python",
   "version": "3.10.9"
  },
  "orig_nbformat": 4
 },
 "nbformat": 4,
 "nbformat_minor": 2
}
