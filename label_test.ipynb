{
 "cells": [
  {
   "cell_type": "code",
   "execution_count": 1,
   "metadata": {},
   "outputs": [],
   "source": [
    "import pandas as pd\n",
    "import os\n",
    "from warnings import warn\n",
    "from tqdm.notebook import tqdm"
   ]
  },
  {
   "cell_type": "code",
   "execution_count": 7,
   "metadata": {},
   "outputs": [],
   "source": [
    "def check_labels(filenames, crisis: pd.DataFrame):\n",
    "    dfs = []\n",
    "    for fname in tqdm(filenames):\n",
    "        date = crisis.loc[crisis['Plik'] == fname, 'Data'].item()\n",
    "        \n",
    "        src_df = pd.read_excel(os.path.join(DATA_DIR, fname))\n",
    "\n",
    "        if src_df['Kryzys'].hasnans:\n",
    "            if src_df['Kryzys'].nunique(dropna=False) != 2:\n",
    "                warn(f'Invalid Kryzys column values in {fname}.')\n",
    "            src_df['label'] = ~src_df['Kryzys'].isna()\n",
    "        else:\n",
    "            src_df['Kryzys'] = src_df['Kryzys'].apply(lambda x: x[:3])\n",
    "            if src_df['Kryzys'].nunique(dropna=False) != 2:\n",
    "                warn(f'Invalid Kryzys column values in {fname}.')\n",
    "            src_df['label'] = src_df['Kryzys'] != 'NIE'\n",
    "        \n",
    "        if src_df[src_df['Data wydania'] < date]['label'].any():\n",
    "            print(f'Incorrect labels in {fname}.')\n",
    "            print(date)\n",
    "            print(src_df[(src_df['Data wydania'] < date) & src_df['label']]['Data wydania'])\n",
    "            dfs.append(src_df[(src_df['Data wydania'] < date) & src_df['label']])\n",
    "    return dfs"
   ]
  },
  {
   "cell_type": "code",
   "execution_count": 3,
   "metadata": {},
   "outputs": [],
   "source": [
    "DATA_DIR = 'data/crisis_data2'\n",
    "\n",
    "files = os.listdir(DATA_DIR)\n",
    "crisis = pd.read_excel('data/crisis_data/Daty_kryzysów.xlsx')"
   ]
  },
  {
   "cell_type": "code",
   "execution_count": 8,
   "metadata": {},
   "outputs": [
    {
     "data": {
      "application/vnd.jupyter.widget-view+json": {
       "model_id": "25ea901fa65a42b7b8b0a2d42ad92b12",
       "version_major": 2,
       "version_minor": 0
      },
      "text/plain": [
       "  0%|          | 0/76 [00:00<?, ?it/s]"
      ]
     },
     "metadata": {},
     "output_type": "display_data"
    },
    {
     "name": "stdout",
     "output_type": "stream",
     "text": [
      "Incorrect labels in Afera szczepionkowa na WUM.xlsx.\n",
      "2021-01-03 00:00:00\n",
      "10894   2021-01-01\n",
      "11165   2021-01-01\n",
      "11176   2021-01-01\n",
      "11180   2021-01-01\n",
      "11296   2021-01-01\n",
      "           ...    \n",
      "28221   2021-01-02\n",
      "28222   2021-01-02\n",
      "28225   2021-01-02\n",
      "28226   2021-01-02\n",
      "28227   2021-01-02\n",
      "Name: Data wydania, Length: 2595, dtype: datetime64[ns]\n",
      "Incorrect labels in Martyna Wojciechowska – współpraca z Żywiec Zdrój (uwaga o plastikowych butelkach).xlsx.\n",
      "2018-06-13 00:00:00\n",
      "1405   2018-06-12\n",
      "1407   2018-06-12\n",
      "Name: Data wydania, dtype: datetime64[ns]\n",
      "Incorrect labels in God of War Ragnarok.xlsx.\n",
      "2022-11-09 00:00:00\n",
      "1373   2022-11-08\n",
      "1374   2022-11-08\n",
      "1375   2022-11-08\n",
      "Name: Data wydania, dtype: datetime64[ns]\n",
      "Incorrect labels in Bolt.xlsx.\n",
      "2022-02-09 00:00:00\n",
      "812    2022-02-01\n",
      "813    2022-02-01\n",
      "814    2022-02-01\n",
      "1385   2022-02-02\n",
      "1386   2022-02-02\n",
      "1387   2022-02-02\n",
      "1388   2022-02-02\n",
      "1389   2022-02-02\n",
      "1405   2022-02-03\n",
      "1406   2022-02-03\n",
      "1421   2022-02-04\n",
      "1422   2022-02-04\n",
      "1423   2022-02-04\n",
      "1424   2022-02-04\n",
      "1436   2022-02-06\n",
      "1437   2022-02-06\n",
      "1438   2022-02-06\n",
      "1446   2022-02-07\n",
      "1447   2022-02-07\n",
      "1448   2022-02-07\n",
      "1462   2022-02-08\n",
      "1463   2022-02-08\n",
      "1464   2022-02-08\n",
      "1465   2022-02-08\n",
      "1466   2022-02-08\n",
      "1467   2022-02-08\n",
      "Name: Data wydania, dtype: datetime64[ns]\n",
      "Incorrect labels in VIVA_Roman Praszyński.xlsx.\n",
      "2020-01-29 00:00:00\n",
      "41   2020-01-25\n",
      "Name: Data wydania, dtype: datetime64[ns]\n"
     ]
    }
   ],
   "source": [
    "dfs = check_labels(files, crisis)"
   ]
  },
  {
   "cell_type": "code",
   "execution_count": 20,
   "metadata": {},
   "outputs": [
    {
     "data": {
      "text/plain": [
       "5"
      ]
     },
     "execution_count": 20,
     "metadata": {},
     "output_type": "execute_result"
    }
   ],
   "source": [
    "len(dfs)"
   ]
  },
  {
   "cell_type": "code",
   "execution_count": 58,
   "metadata": {},
   "outputs": [
    {
     "data": {
      "text/plain": [
       "'...  Włocha?\\n\\nTo przez pomysł na tę scenę i naszą lekkomyślność, brak zabezpieczenia podłoża.\\n\\nBardzo współczuję, aczkolwiek chętnie zobaczę sceny z drona.\\n\\nZapraszam do kin od 7 lutego.\\n\\nFot. Mat. prasowe Fot. mat. pras. Fot. Michał Mutor Fot. Michał Mutor\\n\\nPODZIEL SIĘ\\n\\nSKOMENTUJ\\n\\nRoman Praszyński rpraszynski@edipresse.pl'"
      ]
     },
     "execution_count": 58,
     "metadata": {},
     "output_type": "execute_result"
    }
   ],
   "source": [
    "dfs[4].iloc[0]['Kontekst publikacji']"
   ]
  }
 ],
 "metadata": {
  "kernelspec": {
   "display_name": "Python 3",
   "language": "python",
   "name": "python3"
  },
  "language_info": {
   "codemirror_mode": {
    "name": "ipython",
    "version": 3
   },
   "file_extension": ".py",
   "mimetype": "text/x-python",
   "name": "python",
   "nbconvert_exporter": "python",
   "pygments_lexer": "ipython3",
   "version": "3.10.10"
  },
  "orig_nbformat": 4
 },
 "nbformat": 4,
 "nbformat_minor": 2
}
