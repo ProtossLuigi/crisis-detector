{
 "cells": [
  {
   "cell_type": "code",
   "execution_count": 1,
   "metadata": {},
   "outputs": [],
   "source": [
    "from data_tools import get_full_text_data, get_data_with_dates\n",
    "\n",
    "import pandas as pd"
   ]
  },
  {
   "cell_type": "code",
   "execution_count": 2,
   "metadata": {},
   "outputs": [
    {
     "name": "stderr",
     "output_type": "stream",
     "text": [
      "/home/proto/repos/crisis-detector/data_tools.py:52: SettingWithCopyWarning: \n",
      "A value is trying to be set on a copy of a slice from a DataFrame.\n",
      "Try using .loc[row_indexer,col_indexer] = value instead\n",
      "\n",
      "See the caveats in the documentation: https://pandas.pydata.org/pandas-docs/stable/user_guide/indexing.html#returning-a-view-versus-a-copy\n",
      "  data1['path'] = data1['Nazwa pliku'].apply(lambda x: files[fnames.index(x)])\n"
     ]
    }
   ],
   "source": [
    "dates = get_data_with_dates(get_full_text_data())\n",
    "\n",
    "df = pd.DataFrame(columns=['topic', 'id', 'text'])\n",
    "for row in dates.itertuples():\n",
    "    src_df = pd.read_excel(row.path)\n",
    "    new_df = pd.DataFrame(columns=['topic', 'id', 'text'])\n",
    "    new_df['id'] = src_df.index\n",
    "    new_df['text'] = src_df.apply(lambda x: \" \".join([*str(x['Lead']).splitlines(), *str(x['OCR']).splitlines()]) + '\\n', axis=1).tolist()\n",
    "    new_df['topic'] = row.name\n",
    "    df = pd.concat((df, new_df), ignore_index=True)\n",
    "\n",
    "df.to_feather('saved_objects/full_text_df.feather')\n",
    "with open('saved_objects/texts.txt', 'w') as f:\n",
    "    f.writelines(df['text'].to_list())"
   ]
  },
  {
   "cell_type": "code",
   "execution_count": 3,
   "metadata": {},
   "outputs": [
    {
     "data": {
      "text/plain": [
       "0         Chciałoby się rzec, że to będzie piękny dzień ...\n",
       "1         Jessica Mercedes jest znana każdemu , kto choć...\n",
       "2         2192153632  Zobacz galerię  kolaż ELLE.pl32  Z...\n",
       "3         14291078mat. prasoweatobiasz\"Elle.plhttp://www...\n",
       "4         Znaki zodiaku, układy planet, motyw gwiazdy i ...\n",
       "                                ...                        \n",
       "326880    CALL FOR PAPERS. Przedłużamy czas na nadsyłani...\n",
       "326881    Natalka z „M jak miłość” nagle zniknęła. Teraz...\n",
       "326882    Archiwum Organizatora  CO jest GRANE » 436 wyś...\n",
       "326883    UWAGA, UWAGA!    Od dziś cykl publikacji \"ABC ...\n",
       "326884    MEWA, spektakl dyplomowy studentów Wydziału Ak...\n",
       "Name: text, Length: 326885, dtype: object"
      ]
     },
     "execution_count": 3,
     "metadata": {},
     "output_type": "execute_result"
    }
   ],
   "source": [
    "df['text']"
   ]
  },
  {
   "cell_type": "code",
   "execution_count": 4,
   "metadata": {},
   "outputs": [
    {
     "name": "stdout",
     "output_type": "stream",
     "text": [
      "MEWA, spektakl dyplomowy studentów Wydziału Aktorskiego Szkoły Filmowej w Łodzi, w reż. Grzegorza Wiśniewskiego, otrzymał Nagrodę Specjalną Festival Of International Student Theatre w Belgradzie. FIST Festival Of International Student Theatre odbył się w dniach 21-25 maja, w Belgradzie._x000D_ _x000D_ Nasz spektakl otrzymał Nagrodę Specjalną, którą w imieniu zespołu odebrała Mariola Kukuła._x000D_ _x000D_ Szczegóły: facebook.com/FestivalOfInternationalStudentTheatre_x000D_ _x000D_ Obejrzyj podziękowania naszych aktorek i aktorów: vimeo.com_x000D_ _x000D_ MEWA_x000D_ _x000D_ Anton Czechow_x000D_ _x000D_ Przekład: Natalia Gałczyńska_x000D_ _x000D_ Reżyseria, scenografia, kostiumy, reżyseria światła:_x000D_ _x000D_ Grzegorz Wiśniewski_x000D_ _x000D_ Obsada:_x000D_ _x000D_ BORYS TRIGORIN – Michał Darewski_x000D_ _x000D_ SIEMION MIEDWIEDIENKO / ILIA SZAMRAJEW – Sebastian Dela_x000D_ _x000D_ MASZA – Klaudia Janas_x000D_ _x000D_ PAULINA – Karolina Kostoń_x000D_ _x000D_ NINA ZARIECZNA – Justyna Litwic_x000D_ _x000D_ KONSTANTY TRIEPLEW – Jakub Sierenberg_x000D_ _x000D_ IRENA ARKADINA – Marta Stalmierska_x000D_ _x000D_ EUGENIUSZ DORN – Daniel Stanko_x000D_ _x000D_ PIOTR SORIN – Mikołaj Trynda_x000D_ _x000D_ Premierowe pokazy spektaklu odbyły się w dniach 12 i 13 września 2020 roku, w Teatrze Studyjnym Szkoły Filmowej w Łodzi._x000D_ _x000D_ Szczegóły: teatrstudyjny.lodz.pl/spektakle/mewa_x000D_ _x000D_ Gratulujemy!!!\n",
      "\n"
     ]
    }
   ],
   "source": [
    "print(df.iloc[326884]['text'])"
   ]
  }
 ],
 "metadata": {
  "kernelspec": {
   "display_name": ".venv",
   "language": "python",
   "name": "python3"
  },
  "language_info": {
   "codemirror_mode": {
    "name": "ipython",
    "version": 3
   },
   "file_extension": ".py",
   "mimetype": "text/x-python",
   "name": "python",
   "nbconvert_exporter": "python",
   "pygments_lexer": "ipython3",
   "version": "3.10.6"
  },
  "orig_nbformat": 4
 },
 "nbformat": 4,
 "nbformat_minor": 2
}
