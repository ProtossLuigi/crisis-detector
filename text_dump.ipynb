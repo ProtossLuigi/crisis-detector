{
 "cells": [
  {
   "cell_type": "code",
   "execution_count": 1,
   "metadata": {},
   "outputs": [],
   "source": [
    "from data_tools import get_full_text_data, get_data_with_dates, get_all_data\n",
    "\n",
    "import pandas as pd\n",
    "from tqdm.notebook import tqdm\n",
    "from warnings import warn"
   ]
  },
  {
   "cell_type": "code",
   "execution_count": 2,
   "metadata": {},
   "outputs": [
    {
     "name": "stderr",
     "output_type": "stream",
     "text": [
      "/home/proto/repos/crisis-detector/data_tools.py:53: SettingWithCopyWarning: \n",
      "A value is trying to be set on a copy of a slice from a DataFrame.\n",
      "Try using .loc[row_indexer,col_indexer] = value instead\n",
      "\n",
      "See the caveats in the documentation: https://pandas.pydata.org/pandas-docs/stable/user_guide/indexing.html#returning-a-view-versus-a-copy\n",
      "  data1['path'] = data1['Nazwa pliku'].apply(lambda x: files[fnames.index(x)])\n"
     ]
    }
   ],
   "source": [
    "dates = get_data_with_dates(get_full_text_data())"
   ]
  },
  {
   "cell_type": "code",
   "execution_count": 3,
   "metadata": {},
   "outputs": [
    {
     "data": {
      "application/vnd.jupyter.widget-view+json": {
       "model_id": "d3b6ec1fc48247ec9ced2120cacfe0e3",
       "version_major": 2,
       "version_minor": 0
      },
      "text/plain": [
       "  0%|          | 0/43 [00:00<?, ?it/s]"
      ]
     },
     "metadata": {},
     "output_type": "display_data"
    }
   ],
   "source": [
    "df = pd.DataFrame(columns=['topic', 'id', 'text'])\n",
    "for row in tqdm(dates.itertuples(), total=len(dates)):\n",
    "    try:\n",
    "        src_df = pd.read_excel(row.path)\n",
    "        new_df = pd.DataFrame(columns=['topic', 'id', 'text'])\n",
    "        new_df['id'] = src_df.index\n",
    "        new_df['text'] = src_df.apply(lambda x: \" \".join([*str(x['Lead']).splitlines(), *str(x['OCR']).splitlines()]) + '\\n', axis=1).tolist()\n",
    "        new_df['topic'] = row.name\n",
    "        new_df['sentiment'] = src_df['Sentyment']\n",
    "        df = pd.concat((df, new_df), ignore_index=True)\n",
    "    except KeyError:\n",
    "        print(f'Missing column in {row.name}. Skipping...')\n",
    "\n",
    "df.to_feather('saved_objects/full_text_df.feather')"
   ]
  },
  {
   "cell_type": "code",
   "execution_count": 4,
   "metadata": {},
   "outputs": [],
   "source": [
    "df = pd.read_feather('saved_objects/full_text_df.feather')\n",
    "with open('saved_objects/texts_full.txt', 'w') as f:\n",
    "    f.writelines(df['text'].to_list())"
   ]
  },
  {
   "cell_type": "code",
   "execution_count": 4,
   "metadata": {},
   "outputs": [
    {
     "data": {
      "application/vnd.jupyter.widget-view+json": {
       "model_id": "a95d706220c84e2597d387883da69656",
       "version_major": 2,
       "version_minor": 0
      },
      "text/plain": [
       "  0%|          | 0/326885 [00:00<?, ?it/s]"
      ]
     },
     "metadata": {},
     "output_type": "display_data"
    }
   ],
   "source": [
    "df = pd.read_feather('saved_objects/full_text_df.feather')\n",
    "for i, text in tqdm(enumerate(df['text']), total=len(df)):\n",
    "    with open('saved_objects/texts/' + str(i) + '.txt', 'w') as f:\n",
    "        f.write(text)"
   ]
  }
 ],
 "metadata": {
  "kernelspec": {
   "display_name": ".venv",
   "language": "python",
   "name": "python3"
  },
  "language_info": {
   "codemirror_mode": {
    "name": "ipython",
    "version": 3
   },
   "file_extension": ".py",
   "mimetype": "text/x-python",
   "name": "python",
   "nbconvert_exporter": "python",
   "pygments_lexer": "ipython3",
   "version": "3.10.6"
  },
  "orig_nbformat": 4
 },
 "nbformat": 4,
 "nbformat_minor": 2
}
