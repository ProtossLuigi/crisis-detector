{
 "cells": [
  {
   "cell_type": "code",
   "execution_count": 1,
   "metadata": {},
   "outputs": [],
   "source": [
    "from data_tools import get_full_text_data, get_data_with_dates, get_all_data\n",
    "\n",
    "import pandas as pd\n",
    "from tqdm.notebook import tqdm\n",
    "from warnings import warn"
   ]
  },
  {
   "cell_type": "code",
   "execution_count": 2,
   "metadata": {},
   "outputs": [
    {
     "name": "stderr",
     "output_type": "stream",
     "text": [
      "/home/proto/repos/crisis-detector/data_tools.py:52: SettingWithCopyWarning: \n",
      "A value is trying to be set on a copy of a slice from a DataFrame.\n",
      "Try using .loc[row_indexer,col_indexer] = value instead\n",
      "\n",
      "See the caveats in the documentation: https://pandas.pydata.org/pandas-docs/stable/user_guide/indexing.html#returning-a-view-versus-a-copy\n",
      "  data1['path'] = data1['Nazwa pliku'].apply(lambda x: files[fnames.index(x)])\n"
     ]
    }
   ],
   "source": [
    "dates = get_data_with_dates(get_full_text_data())"
   ]
  },
  {
   "cell_type": "code",
   "execution_count": 3,
   "metadata": {},
   "outputs": [
    {
     "data": {
      "application/vnd.jupyter.widget-view+json": {
       "model_id": "d3b6ec1fc48247ec9ced2120cacfe0e3",
       "version_major": 2,
       "version_minor": 0
      },
      "text/plain": [
       "  0%|          | 0/43 [00:00<?, ?it/s]"
      ]
     },
     "metadata": {},
     "output_type": "display_data"
    }
   ],
   "source": [
    "df = pd.DataFrame(columns=['topic', 'id', 'text'])\n",
    "for row in tqdm(dates.itertuples(), total=len(dates)):\n",
    "    try:\n",
    "        src_df = pd.read_excel(row.path)\n",
    "        new_df = pd.DataFrame(columns=['topic', 'id', 'text'])\n",
    "        new_df['id'] = src_df.index\n",
    "        new_df['text'] = src_df.apply(lambda x: \" \".join([*str(x['Lead']).splitlines(), *str(x['OCR']).splitlines()]) + '\\n', axis=1).tolist()\n",
    "        new_df['topic'] = row.name\n",
    "        new_df['sentiment'] = src_df['Sentyment']\n",
    "        df = pd.concat((df, new_df), ignore_index=True)\n",
    "    except KeyError:\n",
    "        print(f'Missing column in {row.name}. Skipping...')\n",
    "\n",
    "df.to_feather('saved_objects/full_text_df.feather')\n",
    "with open('saved_objects/texts_full.txt', 'w') as f:\n",
    "    f.writelines(df['text'].to_list())"
   ]
  },
  {
   "cell_type": "code",
   "execution_count": 4,
   "metadata": {},
   "outputs": [
    {
     "data": {
      "text/plain": [
       "0         Chciałoby się rzec, że to będzie piękny dzień ...\n",
       "1         Jessica Mercedes jest znana każdemu , kto choć...\n",
       "2         2192153632  Zobacz galerię  kolaż ELLE.pl32  Z...\n",
       "3         14291078mat. prasoweatobiasz\"Elle.plhttp://www...\n",
       "4         Znaki zodiaku, układy planet, motyw gwiazdy i ...\n",
       "                                ...                        \n",
       "326880    CALL FOR PAPERS. Przedłużamy czas na nadsyłani...\n",
       "326881    Natalka z „M jak miłość” nagle zniknęła. Teraz...\n",
       "326882    Archiwum Organizatora  CO jest GRANE » 436 wyś...\n",
       "326883    UWAGA, UWAGA!    Od dziś cykl publikacji \"ABC ...\n",
       "326884    MEWA, spektakl dyplomowy studentów Wydziału Ak...\n",
       "Name: text, Length: 326885, dtype: object"
      ]
     },
     "execution_count": 4,
     "metadata": {},
     "output_type": "execute_result"
    }
   ],
   "source": [
    "df['text']"
   ]
  },
  {
   "cell_type": "code",
   "execution_count": 5,
   "metadata": {},
   "outputs": [
    {
     "name": "stdout",
     "output_type": "stream",
     "text": [
      "                                                    topic    id   \n",
      "0                               Veclaim i \"afera metkowa\"     0  \\\n",
      "1                               Veclaim i \"afera metkowa\"     1   \n",
      "2                               Veclaim i \"afera metkowa\"     2   \n",
      "3                               Veclaim i \"afera metkowa\"     3   \n",
      "4                               Veclaim i \"afera metkowa\"     4   \n",
      "...                                                   ...   ...   \n",
      "326880  Afera w Szkole Filmowej w Łodzi – oskarżenia o...  2569   \n",
      "326881  Afera w Szkole Filmowej w Łodzi – oskarżenia o...  2570   \n",
      "326882  Afera w Szkole Filmowej w Łodzi – oskarżenia o...  2571   \n",
      "326883  Afera w Szkole Filmowej w Łodzi – oskarżenia o...  2572   \n",
      "326884  Afera w Szkole Filmowej w Łodzi – oskarżenia o...  2573   \n",
      "\n",
      "                                                     text  sentiment  \n",
      "0       Chciałoby się rzec, że to będzie piękny dzień ...  neutralny  \n",
      "1       Jessica Mercedes jest znana każdemu , kto choć...  neutralny  \n",
      "2       2192153632  Zobacz galerię  kolaż ELLE.pl32  Z...  neutralny  \n",
      "3       14291078mat. prasoweatobiasz\"Elle.plhttp://www...  neutralny  \n",
      "4       Znaki zodiaku, układy planet, motyw gwiazdy i ...  neutralny  \n",
      "...                                                   ...        ...  \n",
      "326880  CALL FOR PAPERS. Przedłużamy czas na nadsyłani...  neutralny  \n",
      "326881  Natalka z „M jak miłość” nagle zniknęła. Teraz...  neutralny  \n",
      "326882  Archiwum Organizatora  CO jest GRANE » 436 wyś...  neutralny  \n",
      "326883  UWAGA, UWAGA!    Od dziś cykl publikacji \"ABC ...  neutralny  \n",
      "326884  MEWA, spektakl dyplomowy studentów Wydziału Ak...  neutralny  \n",
      "\n",
      "[326885 rows x 4 columns]\n"
     ]
    }
   ],
   "source": [
    "print(df)"
   ]
  }
 ],
 "metadata": {
  "kernelspec": {
   "display_name": ".venv",
   "language": "python",
   "name": "python3"
  },
  "language_info": {
   "codemirror_mode": {
    "name": "ipython",
    "version": 3
   },
   "file_extension": ".py",
   "mimetype": "text/x-python",
   "name": "python",
   "nbconvert_exporter": "python",
   "pygments_lexer": "ipython3",
   "version": "3.10.6"
  },
  "orig_nbformat": 4
 },
 "nbformat": 4,
 "nbformat_minor": 2
}
