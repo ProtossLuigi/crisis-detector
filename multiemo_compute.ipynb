{
 "cells": [
  {
   "cell_type": "code",
   "execution_count": 1,
   "metadata": {},
   "outputs": [],
   "source": [
    "from lpmn_client_biz import Connection, IOType, upload, download, Task, delete"
   ]
  },
  {
   "cell_type": "code",
   "execution_count": 2,
   "metadata": {},
   "outputs": [],
   "source": [
    "with open('token.txt', 'r') as f:\n",
    "    token = f.readline()"
   ]
  },
  {
   "cell_type": "code",
   "execution_count": 3,
   "metadata": {},
   "outputs": [
    {
     "name": "stderr",
     "output_type": "stream",
     "text": [
      "  0%|          | 0.0/100 [18:35<?, ?it/s]"
     ]
    },
    {
     "ename": "TimeoutError",
     "evalue": "Operation [['any2txt', {'multiemo': {'type': 'text', 'language': 'pl'}}]] timeout",
     "output_type": "error",
     "traceback": [
      "\u001b[0;31m---------------------------------------------------------------------------\u001b[0m",
      "\u001b[0;31mKeyboardInterrupt\u001b[0m                         Traceback (most recent call last)",
      "File \u001b[0;32m~/repos/crisis-detector/.venv/lib/python3.10/site-packages/lpmn_client_biz/task.py:35\u001b[0m, in \u001b[0;36m_timeout_manager\u001b[0;34m(timeout, task, msg)\u001b[0m\n\u001b[1;32m     34\u001b[0m \u001b[39mtry\u001b[39;00m:\n\u001b[0;32m---> 35\u001b[0m     \u001b[39myield\u001b[39;00m\n\u001b[1;32m     36\u001b[0m \u001b[39mexcept\u001b[39;00m \u001b[39mKeyboardInterrupt\u001b[39;00m:\n",
      "File \u001b[0;32m~/repos/crisis-detector/.venv/lib/python3.10/site-packages/lpmn_client_biz/task.py:218\u001b[0m, in \u001b[0;36mTask.run\u001b[0;34m(self, input, input_type, blocking, timeout, verbose)\u001b[0m\n\u001b[1;32m    217\u001b[0m \u001b[39mwith\u001b[39;00m _timeout_manager(timeout, \u001b[39mself\u001b[39m, \u001b[39mself\u001b[39m\u001b[39m.\u001b[39mlpmn):\n\u001b[0;32m--> 218\u001b[0m     \u001b[39mself\u001b[39;49m\u001b[39m.\u001b[39;49m_wait(verbose\u001b[39m=\u001b[39;49mverbose)\n\u001b[1;32m    219\u001b[0m \u001b[39mreturn\u001b[39;00m \u001b[39mself\u001b[39m\u001b[39m.\u001b[39mget_output()\n",
      "File \u001b[0;32m~/repos/crisis-detector/.venv/lib/python3.10/site-packages/lpmn_client_biz/task.py:105\u001b[0m, in \u001b[0;36mTask._wait\u001b[0;34m(self, verbose)\u001b[0m\n\u001b[1;32m    104\u001b[0m \u001b[39mwhile\u001b[39;00m status \u001b[39m!=\u001b[39m DONE:\n\u001b[0;32m--> 105\u001b[0m     time\u001b[39m.\u001b[39;49msleep(PROGRESS_SLEEP_PERIOD)\n\u001b[1;32m    106\u001b[0m     info \u001b[39m=\u001b[39m \u001b[39mself\u001b[39m\u001b[39m.\u001b[39m__get_task_info()\n",
      "\u001b[0;31mKeyboardInterrupt\u001b[0m: ",
      "\nDuring handling of the above exception, another exception occurred:\n",
      "\u001b[0;31mTimeoutError\u001b[0m                              Traceback (most recent call last)",
      "Cell \u001b[0;32mIn[3], line 5\u001b[0m\n\u001b[1;32m      3\u001b[0m task \u001b[39m=\u001b[39m Task(lpmn_task, _connection)\n\u001b[1;32m      4\u001b[0m FILE \u001b[39m=\u001b[39m upload(_connection, \u001b[39m\"\u001b[39m\u001b[39msaved_objects/texts.zip\u001b[39m\u001b[39m\"\u001b[39m)\n\u001b[0;32m----> 5\u001b[0m output_file_id \u001b[39m=\u001b[39m task\u001b[39m.\u001b[39;49mrun(FILE, IOType\u001b[39m.\u001b[39;49mFILE, verbose\u001b[39m=\u001b[39;49m\u001b[39mTrue\u001b[39;49;00m)\n\u001b[1;32m      6\u001b[0m output_path \u001b[39m=\u001b[39m \u001b[39m'\u001b[39m\u001b[39msaved_objects\u001b[39m\u001b[39m'\u001b[39m\n\u001b[1;32m      7\u001b[0m filename \u001b[39m=\u001b[39m \u001b[39m\"\u001b[39m\u001b[39mwyniki.zip\u001b[39m\u001b[39m\"\u001b[39m\n",
      "File \u001b[0;32m~/repos/crisis-detector/.venv/lib/python3.10/site-packages/lpmn_client_biz/task.py:217\u001b[0m, in \u001b[0;36mTask.run\u001b[0;34m(self, input, input_type, blocking, timeout, verbose)\u001b[0m\n\u001b[1;32m    214\u001b[0m \u001b[39mself\u001b[39m\u001b[39m.\u001b[39mtask_id \u001b[39m=\u001b[39m data[\u001b[39m'\u001b[39m\u001b[39mtask_id\u001b[39m\u001b[39m'\u001b[39m]\n\u001b[1;32m    216\u001b[0m \u001b[39mif\u001b[39;00m blocking:\n\u001b[0;32m--> 217\u001b[0m     \u001b[39mwith\u001b[39;00m _timeout_manager(timeout, \u001b[39mself\u001b[39m, \u001b[39mself\u001b[39m\u001b[39m.\u001b[39mlpmn):\n\u001b[1;32m    218\u001b[0m         \u001b[39mself\u001b[39m\u001b[39m.\u001b[39m_wait(verbose\u001b[39m=\u001b[39mverbose)\n\u001b[1;32m    219\u001b[0m     \u001b[39mreturn\u001b[39;00m \u001b[39mself\u001b[39m\u001b[39m.\u001b[39mget_output()\n",
      "File \u001b[0;32m/usr/lib/python3.10/contextlib.py:153\u001b[0m, in \u001b[0;36m_GeneratorContextManager.__exit__\u001b[0;34m(self, typ, value, traceback)\u001b[0m\n\u001b[1;32m    151\u001b[0m     value \u001b[39m=\u001b[39m typ()\n\u001b[1;32m    152\u001b[0m \u001b[39mtry\u001b[39;00m:\n\u001b[0;32m--> 153\u001b[0m     \u001b[39mself\u001b[39;49m\u001b[39m.\u001b[39;49mgen\u001b[39m.\u001b[39;49mthrow(typ, value, traceback)\n\u001b[1;32m    154\u001b[0m \u001b[39mexcept\u001b[39;00m \u001b[39mStopIteration\u001b[39;00m \u001b[39mas\u001b[39;00m exc:\n\u001b[1;32m    155\u001b[0m     \u001b[39m# Suppress StopIteration *unless* it's the same exception that\u001b[39;00m\n\u001b[1;32m    156\u001b[0m     \u001b[39m# was passed to throw().  This prevents a StopIteration\u001b[39;00m\n\u001b[1;32m    157\u001b[0m     \u001b[39m# raised inside the \"with\" statement from being suppressed.\u001b[39;00m\n\u001b[1;32m    158\u001b[0m     \u001b[39mreturn\u001b[39;00m exc \u001b[39mis\u001b[39;00m \u001b[39mnot\u001b[39;00m value\n",
      "File \u001b[0;32m~/repos/crisis-detector/.venv/lib/python3.10/site-packages/lpmn_client_biz/task.py:38\u001b[0m, in \u001b[0;36m_timeout_manager\u001b[0;34m(timeout, task, msg)\u001b[0m\n\u001b[1;32m     36\u001b[0m \u001b[39mexcept\u001b[39;00m \u001b[39mKeyboardInterrupt\u001b[39;00m:\n\u001b[1;32m     37\u001b[0m     task\u001b[39m.\u001b[39mcancel()\n\u001b[0;32m---> 38\u001b[0m     \u001b[39mraise\u001b[39;00m \u001b[39mTimeoutError\u001b[39;00m(\u001b[39mf\u001b[39m\u001b[39m\"\u001b[39m\u001b[39mOperation \u001b[39m\u001b[39m{\u001b[39;00mmsg\u001b[39m}\u001b[39;00m\u001b[39m timeout\u001b[39m\u001b[39m\"\u001b[39m)\n\u001b[1;32m     39\u001b[0m \u001b[39mfinally\u001b[39;00m:\n\u001b[1;32m     40\u001b[0m     timer\u001b[39m.\u001b[39mcancel()\n",
      "\u001b[0;31mTimeoutError\u001b[0m: Operation [['any2txt', {'multiemo': {'type': 'text', 'language': 'pl'}}]] timeout"
     ]
    }
   ],
   "source": [
    "lpmn_task = [[\"any2txt\",{\"multiemo\":{\"type\": \"text\", \"language\": \"pl\"}}]]\n",
    "_connection = Connection(api_token=token)\n",
    "task = Task(lpmn_task, _connection)\n",
    "FILE = upload(_connection, \"saved_objects/texts.zip\")\n",
    "output_file_id = task.run(FILE, IOType.FILE, verbose=True)\n",
    "output_path = 'saved_objects'\n",
    "filename = \"wyniki.zip\"\n",
    "downloaded = download(_connection, output_file_id, IOType.FILE, output_path, filename)\n",
    "print('Folder do pobrania: \\n', downloaded)\n",
    "print(delete(_connection, FILE))"
   ]
  }
 ],
 "metadata": {
  "kernelspec": {
   "display_name": ".venv",
   "language": "python",
   "name": "python3"
  },
  "language_info": {
   "codemirror_mode": {
    "name": "ipython",
    "version": 3
   },
   "file_extension": ".py",
   "mimetype": "text/x-python",
   "name": "python",
   "nbconvert_exporter": "python",
   "pygments_lexer": "ipython3",
   "version": "3.10.6"
  },
  "orig_nbformat": 4
 },
 "nbformat": 4,
 "nbformat_minor": 2
}
